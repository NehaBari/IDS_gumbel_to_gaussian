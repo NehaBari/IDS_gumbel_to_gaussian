{
  "nbformat": 4,
  "nbformat_minor": 0,
  "metadata": {
    "colab": {
      "name": "IDS01-Q4.ipynb",
      "version": "0.3.2",
      "provenance": [],
      "collapsed_sections": []
    },
    "kernelspec": {
      "name": "python3",
      "display_name": "Python 3"
    }
  },
  "cells": [
    {
      "cell_type": "code",
      "metadata": {
        "id": "j7TRDb9SmWb4",
        "colab_type": "code",
        "colab": {}
      },
      "source": [
        "import numpy as np\n",
        "import matplotlib.pyplot as plt\n",
        "\n",
        "from scipy.stats import norm"
      ],
      "execution_count": 0,
      "outputs": []
    },
    {
      "cell_type": "code",
      "metadata": {
        "id": "2LtrOQLfmc2J",
        "colab_type": "code",
        "colab": {}
      },
      "source": [
        "np.random.seed(42)\n",
        "\n",
        "# Draw sample from a distribution  \n",
        "loc, scale = 2, 0.1\n",
        "samples = np.random.gumbel(loc, scale, 1000000)    \n",
        "\n"
      ],
      "execution_count": 0,
      "outputs": []
    },
    {
      "cell_type": "code",
      "metadata": {
        "id": "zHdXTMqsms5I",
        "colab_type": "code",
        "outputId": "c94c0453-dcfc-4e2e-9a3b-57470cea4777",
        "colab": {
          "base_uri": "https://localhost:8080/",
          "height": 269
        }
      },
      "source": [
        "# Given sample\n",
        "count, bins, ignored = plt.hist(samples, 100, density = True)\n",
        "plt.show()"
      ],
      "execution_count": 9,
      "outputs": [
        {
          "output_type": "display_data",
          "data": {
            "image/png": "[encoded data removed]",
            "text/plain": [
              "<Figure size 432x288 with 1 Axes>"
            ]
          },
          "metadata": {
            "tags": []
          }
        }
      ]
    },
    {
      "cell_type": "code",
      "metadata": {
        "id": "EEOUX_auWy4Q",
        "colab_type": "code",
        "colab": {
          "base_uri": "https://localhost:8080/",
          "height": 269
        },
        "outputId": "370c0afc-5eb3-497f-c7e2-bb28807241e7"
      },
      "source": [
        "# square of samples\n",
        "square_samples = np.square(samples)\n",
        "count, bins, ignored = plt.hist(square_samples, 100, density = True)\n",
        "plt.show()"
      ],
      "execution_count": 10,
      "outputs": [
        {
          "output_type": "display_data",
          "data": {
            "image/png": "[encoded data removed]",
            "text/plain": [
              "<Figure size 432x288 with 1 Axes>"
            ]
          },
          "metadata": {
            "tags": []
          }
        }
      ]
    },
    {
      "cell_type": "code",
      "metadata": {
        "id": "TzIdahaZmxBM",
        "colab_type": "code",
        "outputId": "7d06e2d0-0959-41a5-be23-cec7aabb8b0b",
        "colab": {
          "base_uri": "https://localhost:8080/",
          "height": 269
        }
      },
      "source": [
        "# Perform the transformation on the samples here ...\n",
        "# log of samples\n",
        "log_samples = np.log(samples)\n",
        "count, bins, ignored = plt.hist(log_samples, 100, density = True)\n",
        "plt.show()"
      ],
      "execution_count": 11,
      "outputs": [
        {
          "output_type": "display_data",
          "data": {
            "image/png": "[encoded data removed]",
            "text/plain": [
              "<Figure size 432x288 with 1 Axes>"
            ]
          },
          "metadata": {
            "tags": []
          }
        }
      ]
    },
    {
      "cell_type": "code",
      "metadata": {
        "id": "YYsx9KHRPSEz",
        "colab_type": "code",
        "outputId": "4d54d1f5-7306-43d8-85b7-0cdc194f6a16",
        "colab": {
          "base_uri": "https://localhost:8080/",
          "height": 269
        }
      },
      "source": [
        "#Inverse of samples\n",
        "inv_samples = 1/samples\n",
        "count, bins, ignored = plt.hist(inv_samples, 100, density = True)\n",
        "plt.show()"
      ],
      "execution_count": 12,
      "outputs": [
        {
          "output_type": "display_data",
          "data": {
            "image/png": "[encoded data removed]",
            "text/plain": [
              "<Figure size 432x288 with 1 Axes>"
            ]
          },
          "metadata": {
            "tags": []
          }
        }
      ]
    },
    {
      "cell_type": "code",
      "metadata": {
        "id": "2mkrWQfaPT_I",
        "colab_type": "code",
        "outputId": "9dded3a8-bf23-400d-a7aa-f54c5b977762",
        "colab": {
          "base_uri": "https://localhost:8080/",
          "height": 269
        }
      },
      "source": [
        "# squareroot of samples\n",
        "sqrt_samples = np.sqrt(samples)\n",
        "count, bins, ignored = plt.hist(sqrt_samples, 100, density = True)\n",
        "plt.show()"
      ],
      "execution_count": 13,
      "outputs": [
        {
          "output_type": "display_data",
          "data": {
            "image/png": "[encoded data removed]",
            "text/plain": [
              "<Figure size 432x288 with 1 Axes>"
            ]
          },
          "metadata": {
            "tags": []
          }
        }
      ]
    },
    {
      "cell_type": "code",
      "metadata": {
        "id": "xCVjYd4bPV8I",
        "colab_type": "code",
        "outputId": "0a388a1a-6d9c-4dc2-fbd2-ddecc6269faf",
        "colab": {
          "base_uri": "https://localhost:8080/",
          "height": 269
        }
      },
      "source": [
        "# square of samples\n",
        "sq_samples = np.square(samples)\n",
        "\n",
        "count, bins, ignored = plt.hist(sq_samples, 100, density = True)\n",
        "plt.show()"
      ],
      "execution_count": 14,
      "outputs": [
        {
          "output_type": "display_data",
          "data": {
            "image/png": "[encoded data removed]",
            "text/plain": [
              "<Figure size 432x288 with 1 Axes>"
            ]
          },
          "metadata": {
            "tags": []
          }
        }
      ]
    },
    {
      "cell_type": "code",
      "metadata": {
        "id": "tmQ3rHTVPXpX",
        "colab_type": "code",
        "outputId": "f8d53f1f-a6e0-422d-8cc2-58ab63b66150",
        "colab": {
          "base_uri": "https://localhost:8080/",
          "height": 269
        }
      },
      "source": [
        "# exponent of samples\n",
        "exp_samples = np.exp(samples)\n",
        "count, bins, ignored = plt.hist(exp_samples, 100, density = True)\n",
        "plt.show()"
      ],
      "execution_count": 15,
      "outputs": [
        {
          "output_type": "display_data",
          "data": {
            "image/png": "[encoded data removed]",
            "text/plain": [
              "<Figure size 432x288 with 1 Axes>"
            ]
          },
          "metadata": {
            "tags": []
          }
        }
      ]
    },
    {
      "cell_type": "code",
      "metadata": {
        "id": "pkjqZ-yzP_r4",
        "colab_type": "code",
        "colab": {}
      },
      "source": [
        "# ===========transformation of the sample from gumbel to gaussian============"
      ],
      "execution_count": 0,
      "outputs": []
    },
    {
      "cell_type": "code",
      "metadata": {
        "id": "YnVUZQVxQ5QL",
        "colab_type": "code",
        "outputId": "11bd0dbc-bd04-410d-ba55-0040896d95f6",
        "colab": {
          "base_uri": "https://localhost:8080/",
          "height": 269
        }
      },
      "source": [
        "inv = 1/samples\n",
        "\n",
        "\n",
        "count, bins, ignored = plt.hist(inv, 100, density = True)\n",
        "plt.show()"
      ],
      "execution_count": 17,
      "outputs": [
        {
          "output_type": "display_data",
          "data": {
            "image/png": "[encoded data removed]",
            "text/plain": [
              "<Figure size 432x288 with 1 Axes>"
            ]
          },
          "metadata": {
            "tags": []
          }
        }
      ]
    },
    {
      "cell_type": "code",
      "metadata": {
        "id": "MyCzxjTNbI5p",
        "colab_type": "code",
        "outputId": "eac60bf1-b2a0-4ac1-e198-1cbe227b941d",
        "colab": {
          "base_uri": "https://localhost:8080/",
          "height": 269
        }
      },
      "source": [
        "sq = np.square(inv)\n",
        "\n",
        "\n",
        "count, bins, ignored = plt.hist(sq, 100, density = True)\n",
        "plt.show()"
      ],
      "execution_count": 18,
      "outputs": [
        {
          "output_type": "display_data",
          "data": {
            "image/png": "[encoded data removed]",
            "text/plain": [
              "<Figure size 432x288 with 1 Axes>"
            ]
          },
          "metadata": {
            "tags": []
          }
        }
      ]
    },
    {
      "cell_type": "code",
      "metadata": {
        "id": "kdB6MG1Nbc2X",
        "colab_type": "code",
        "outputId": "5567e3f8-2b0a-4c98-d811-e325cc3a330f",
        "colab": {
          "base_uri": "https://localhost:8080/",
          "height": 269
        }
      },
      "source": [
        "#=========The distribution looks almost gaussian after inverse, square, square==========\n",
        "sqsq = np.square(sq)\n",
        "count, bins, ignored = plt.hist(sqsq, 100, density = True)\n",
        "plt.show()\n"
      ],
      "execution_count": 26,
      "outputs": [
        {
          "output_type": "display_data",
          "data": {
            "image/png": "[encoded data removed]",
            "text/plain": [
              "<Figure size 432x288 with 1 Axes>"
            ]
          },
          "metadata": {
            "tags": []
          }
        }
      ]
    },
    {
      "cell_type": "code",
      "metadata": {
        "id": "Ty5kfGznbtp4",
        "colab_type": "code",
        "colab": {}
      },
      "source": [
        "# transformation of the samples \n",
        "data = sqsq"
      ],
      "execution_count": 0,
      "outputs": []
    },
    {
      "cell_type": "code",
      "metadata": {
        "id": "AN6_P-1Tb1HP",
        "colab_type": "code",
        "outputId": "7da32075-8b00-45ef-bc37-f7fca3674469",
        "colab": {
          "base_uri": "https://localhost:8080/",
          "height": 660
        }
      },
      "source": [
        "# Fit a normal distribution to the data:\n",
        "mu, std = norm.fit(data)\n",
        "plt.figure(figsize=(20,10))\n",
        "# Plot the histogram.\n",
        "plt.hist(data, bins=25, density=True, alpha=0.6, color='y',label='transformed gumblel')\n",
        "\n",
        "# Plot the PDF.\n",
        "xmin, xmax = plt.xlim()\n",
        "x = np.linspace(xmin, xmax, 100)\n",
        "p = norm.pdf(x, mu, std)\n",
        "plt.plot(x, p, 'k', linewidth=2,label = 'Gaussian fit')\n",
        "title = \"Plot of original Gumbel, Transformed gumbel and a gaussian fit. \\n Fit results: mu = %.2f,  std = %.2f\" % (mu, std)\n",
        "count, bins, ignored = plt.hist(samples, 100, density = True,label='original gumbel')\n",
        "plt.title(title)\n",
        "plt.xlim([0,2.6])\n",
        "plt.legend(loc=1, prop={'size': 18})"
      ],
      "execution_count": 23,
      "outputs": [
        {
          "output_type": "execute_result",
          "data": {
            "text/plain": [
              "<matplotlib.legend.Legend at 0x7f9ac3f3e550>"
            ]
          },
          "metadata": {
            "tags": []
          },
          "execution_count": 23
        },
        {
          "output_type": "display_data",
          "data": {
            "image/png": "[encoded data removed]",
            "text/plain": [
              "<Figure size 1440x720 with 1 Axes>"
            ]
          },
          "metadata": {
            "tags": []
          }
        }
      ]
    },
    {
      "cell_type": "code",
      "metadata": {
        "id": "bArR35RecWB1",
        "colab_type": "code",
        "outputId": "a0a61914-51f0-43a3-978e-f18d6a7bf82b",
        "colab": {
          "base_uri": "https://localhost:8080/",
          "height": 34
        }
      },
      "source": [
        "plt.savefig('IDS01-Q4.jpg')"
      ],
      "execution_count": 0,
      "outputs": [
        {
          "output_type": "display_data",
          "data": {
            "text/plain": [
              "<Figure size 432x288 with 0 Axes>"
            ]
          },
          "metadata": {
            "tags": []
          }
        }
      ]
    },
    {
      "cell_type": "code",
      "metadata": {
        "id": "TFHQNn5DfObh",
        "colab_type": "code",
        "colab": {}
      },
      "source": [
        ""
      ],
      "execution_count": 0,
      "outputs": []
    }
  ]
}